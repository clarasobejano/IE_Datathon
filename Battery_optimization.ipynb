{
 "cells": [
  {
   "cell_type": "code",
   "execution_count": null,
   "metadata": {},
   "outputs": [],
   "source": []
  },
  {
   "cell_type": "code",
   "execution_count": 1,
   "metadata": {},
   "outputs": [],
   "source": [
    "import pandas as pd\n",
    "import numpy as np\n",
    "\n",
    "solar_pred = pd.read_excel(r\"C:\\Users\\tomas\\Downloads\\Objective1_Solar_Prediction.xlsx\", parse_dates=['Datetime'])\n",
    "actual_used = pd.read_csv(r\"C:\\Users\\tomas\\Downloads\\repsol_dataset\\Consumo_fotovoltaica.csv\", parse_dates=['FECHA'])\n",
    "actual_used.rename(columns={'FECHA': 'Datetime', 'TOTAL_KWH_ENERGIA': 'ACTUAL_USED'}, inplace=True)"
   ]
  },
  {
   "cell_type": "code",
   "execution_count": 2,
   "metadata": {},
   "outputs": [],
   "source": [
    "grid_demand = pd.read_csv(r\"C:\\Users\\tomas\\Downloads\\repsol_dataset\\Consumo.csv\", parse_dates=['FECHA'])\n",
    "grid_demand.rename(columns={'FECHA': 'Datetime', 'TOTAL_KWH_ENERGIA': 'GRID_CONSUMED'}, inplace=True)"
   ]
  },
  {
   "cell_type": "code",
   "execution_count": 8,
   "metadata": {},
   "outputs": [],
   "source": [
    "carbon = pd.read_csv(r\"C:\\Users\\tomas\\Downloads\\repsol_dataset\\ES_2024_hourly.csv\", parse_dates=['Datetime (UTC)'])\n",
    "carbon = carbon[carbon['Country'] == 'Spain']\n",
    "carbon = carbon[['Datetime (UTC)', 'Carbon Intensity gCO₂eq/kWh (direct)']]\n",
    "carbon.rename(columns={'Carbon Intensity gCO₂eq/kWh (direct)': 'CARBON_INTENSITY'}, inplace=True)"
   ]
  },
  {
   "cell_type": "code",
   "execution_count": null,
   "metadata": {},
   "outputs": [],
   "source": [
    "solar_pred['Datetime'] = solar_pred['Datetime'].dt.tz_localize(None)\n",
    "actual_used['Datetime'] = actual_used['Datetime'].dt.tz_localize(None)\n",
    "grid_demand['Datetime'] = grid_demand['Datetime'].dt.tz_localize(None)\n",
    "carbon['Datetime'] = carbon['Datetime (UTC)'].dt.tz_localize(None)\n",
    "\n",
    "df = solar_pred.merge(actual_used, on='Datetime', how='left')\n",
    "df = df.merge(grid_demand, on='Datetime', how='left')\n",
    "df = df.merge(carbon, on='Datetime', how='left')"
   ]
  },
  {
   "cell_type": "code",
   "execution_count": 15,
   "metadata": {},
   "outputs": [],
   "source": [
    "# Calculate EXCESS solar\n",
    "df['EXCESS_SOLAR'] = df['KWH_ENERGIA'] - df['ACTUAL_USED']\n",
    "df['EXCESS_SOLAR'] = df['EXCESS_SOLAR'].clip(lower=0)"
   ]
  },
  {
   "cell_type": "code",
   "execution_count": 16,
   "metadata": {},
   "outputs": [],
   "source": [
    "# Prepare tracking columns\n",
    "df['ENERGY_CHARGED'] = 0.0\n",
    "df['ENERGY_DISCHARGED'] = 0.0\n",
    "df['CO2_AVOIDED'] = 0.0"
   ]
  },
  {
   "cell_type": "code",
   "execution_count": 26,
   "metadata": {},
   "outputs": [],
   "source": [
    "df = df.fillna(0)"
   ]
  },
  {
   "cell_type": "code",
   "execution_count": 27,
   "metadata": {},
   "outputs": [],
   "source": [
    "# Simulate day-by-day energy charging and discharging\n",
    "for day, day_df in df.groupby(df['Datetime'].dt.date):  # Loop through each unique date\n",
    "    # Sort the day’s data chronologically\n",
    "    day_df = day_df.sort_values('Datetime')\n",
    "    \n",
    "    # Copy available excess solar energy for this day\n",
    "    charge_available = day_df['EXCESS_SOLAR'].copy()\n",
    "    \n",
    "    charged = 0  # Track total energy charged for the day\n",
    "\n",
    "    # Loop over each hour to simulate charging\n",
    "    for i in range(len(day_df)):\n",
    "        if charged >= 100:  # Maximum daily battery capacity is 100 units\n",
    "            break\n",
    "        # Determine how much can be charged in this hour\n",
    "        charge_possible = min(100 - charged, 100, charge_available.iloc[i])\n",
    "        \n",
    "        # Store the charged energy in the main DataFrame\n",
    "        df.loc[day_df.index[i], 'ENERGY_CHARGED'] = charge_possible\n",
    "        \n",
    "        # Accumulate the total charged energy\n",
    "        charged += charge_possible\n",
    "\n",
    "    # Identify hours with the highest carbon intensity first for discharging\n",
    "    discharge_hours = day_df.sort_values('CARBON_INTENSITY', ascending=False)\n",
    "    \n",
    "    discharged = 0  # Track total energy discharged for the day\n",
    "\n",
    "    # Loop through hours in descending carbon intensity to maximize CO2 avoided\n",
    "    for i in discharge_hours.index:\n",
    "        if discharged >= 100:  # Maximum daily discharging limit is 100 units\n",
    "            break\n",
    "        # Determine how much of the grid consumption can be replaced (discharged)\n",
    "        grid_need = df.loc[i, 'GRID_CONSUMED']\n",
    "        \n",
    "        # Discharge either what's needed or what's remaining in capacity\n",
    "        discharge = min(100 - discharged, grid_need)\n",
    "        \n",
    "        # Store discharged energy and corresponding CO2 avoided\n",
    "        df.loc[i, 'ENERGY_DISCHARGED'] = discharge\n",
    "        df.loc[i, 'CO2_AVOIDED'] = discharge * df.loc[i, 'CARBON_INTENSITY']\n",
    "        \n",
    "        # Accumulate total discharged energy\n",
    "        discharged += discharge\n"
   ]
  },
  {
   "cell_type": "code",
   "execution_count": 28,
   "metadata": {},
   "outputs": [
    {
     "name": "stdout",
     "output_type": "stream",
     "text": [
      " Ra (Self-Consumption Ratio %): 117.4937\n"
     ]
    },
    {
     "data": {
      "text/html": [
       "<div>\n",
       "<style scoped>\n",
       "    .dataframe tbody tr th:only-of-type {\n",
       "        vertical-align: middle;\n",
       "    }\n",
       "\n",
       "    .dataframe tbody tr th {\n",
       "        vertical-align: top;\n",
       "    }\n",
       "\n",
       "    .dataframe thead th {\n",
       "        text-align: right;\n",
       "    }\n",
       "</style>\n",
       "<table border=\"1\" class=\"dataframe\">\n",
       "  <thead>\n",
       "    <tr style=\"text-align: right;\">\n",
       "      <th></th>\n",
       "      <th>Datetime</th>\n",
       "      <th>CO2_AVOIDED</th>\n",
       "    </tr>\n",
       "  </thead>\n",
       "  <tbody>\n",
       "    <tr>\n",
       "      <th>0</th>\n",
       "      <td>2024-09-01 00:00:00</td>\n",
       "      <td>0.0</td>\n",
       "    </tr>\n",
       "    <tr>\n",
       "      <th>1</th>\n",
       "      <td>2024-09-01 01:00:00</td>\n",
       "      <td>0.0</td>\n",
       "    </tr>\n",
       "    <tr>\n",
       "      <th>2</th>\n",
       "      <td>2024-09-01 02:00:00</td>\n",
       "      <td>0.0</td>\n",
       "    </tr>\n",
       "    <tr>\n",
       "      <th>3</th>\n",
       "      <td>2024-09-01 03:00:00</td>\n",
       "      <td>0.0</td>\n",
       "    </tr>\n",
       "    <tr>\n",
       "      <th>4</th>\n",
       "      <td>2024-09-01 04:00:00</td>\n",
       "      <td>0.0</td>\n",
       "    </tr>\n",
       "    <tr>\n",
       "      <th>...</th>\n",
       "      <td>...</td>\n",
       "      <td>...</td>\n",
       "    </tr>\n",
       "    <tr>\n",
       "      <th>715</th>\n",
       "      <td>2024-09-30 19:00:00</td>\n",
       "      <td>0.0</td>\n",
       "    </tr>\n",
       "    <tr>\n",
       "      <th>716</th>\n",
       "      <td>2024-09-30 20:00:00</td>\n",
       "      <td>0.0</td>\n",
       "    </tr>\n",
       "    <tr>\n",
       "      <th>717</th>\n",
       "      <td>2024-09-30 21:00:00</td>\n",
       "      <td>0.0</td>\n",
       "    </tr>\n",
       "    <tr>\n",
       "      <th>718</th>\n",
       "      <td>2024-09-30 22:00:00</td>\n",
       "      <td>0.0</td>\n",
       "    </tr>\n",
       "    <tr>\n",
       "      <th>719</th>\n",
       "      <td>2024-09-30 23:00:00</td>\n",
       "      <td>0.0</td>\n",
       "    </tr>\n",
       "  </tbody>\n",
       "</table>\n",
       "<p>720 rows × 2 columns</p>\n",
       "</div>"
      ],
      "text/plain": [
       "               Datetime  CO2_AVOIDED\n",
       "0   2024-09-01 00:00:00          0.0\n",
       "1   2024-09-01 01:00:00          0.0\n",
       "2   2024-09-01 02:00:00          0.0\n",
       "3   2024-09-01 03:00:00          0.0\n",
       "4   2024-09-01 04:00:00          0.0\n",
       "..                  ...          ...\n",
       "715 2024-09-30 19:00:00          0.0\n",
       "716 2024-09-30 20:00:00          0.0\n",
       "717 2024-09-30 21:00:00          0.0\n",
       "718 2024-09-30 22:00:00          0.0\n",
       "719 2024-09-30 23:00:00          0.0\n",
       "\n",
       "[720 rows x 2 columns]"
      ]
     },
     "execution_count": 28,
     "metadata": {},
     "output_type": "execute_result"
    }
   ],
   "source": [
    "# Final metrics\n",
    "total_generated = df['KWH_ENERGIA'].sum()\n",
    "total_direct_used = df['ACTUAL_USED'].sum()\n",
    "total_battery_used = df['ENERGY_DISCHARGED'].sum()\n",
    "\n",
    "# 🔢 Ra (Self-Consumption Ratio)\n",
    "Ra = round(((total_direct_used + total_battery_used) / total_generated) * 100, 4)\n",
    "print(\" Ra (Self-Consumption Ratio %):\", Ra)\n",
    "\n",
    "# Save CO2_Avoided output file (for Objective 3 too)\n",
    "df_out = df[['Datetime', 'CO2_AVOIDED']]\n",
    "df_out"
   ]
  },
  {
   "cell_type": "code",
   "execution_count": null,
   "metadata": {},
   "outputs": [],
   "source": []
  }
 ],
 "metadata": {
  "kernelspec": {
   "display_name": "base",
   "language": "python",
   "name": "python3"
  },
  "language_info": {
   "codemirror_mode": {
    "name": "ipython",
    "version": 3
   },
   "file_extension": ".py",
   "mimetype": "text/x-python",
   "name": "python",
   "nbconvert_exporter": "python",
   "pygments_lexer": "ipython3",
   "version": "3.12.7"
  }
 },
 "nbformat": 4,
 "nbformat_minor": 2
}
